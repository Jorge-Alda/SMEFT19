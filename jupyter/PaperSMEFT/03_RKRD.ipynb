{
 "cells": [
  {
   "cell_type": "markdown",
   "metadata": {},
   "source": [
    "In this notebook, we compute the predictions and uncertainties for the RK(\\*) and RD(\\*) ratios."
   ]
  },
  {
   "cell_type": "code",
   "execution_count": 1,
   "metadata": {},
   "outputs": [],
   "source": [
    "import SMEFT19\n",
    "from SMEFT19.scenarios import scIV, scVII, scIX, scX, scXI"
   ]
  },
  {
   "cell_type": "code",
   "execution_count": 4,
   "metadata": {},
   "outputs": [],
   "source": [
    "SMEFT19.obsuncert.calculate(scIV, [-2, -2], [2, 2], '../../observables/obsIV.yaml', '../../ellipses/scIV.yaml', name='Scenario IV', mode='hess', cores=4)"
   ]
  },
  {
   "cell_type": "code",
   "execution_count": 5,
   "metadata": {},
   "outputs": [],
   "source": [
    "SMEFT19.obsuncert.calculate(scVII, [-1, -1, -2], [1, 1, 1], '../../observables/obsVII.yaml', '../../ellipses/scVII.yaml', name='Scenario VII', mode='hess', cores=4)"
   ]
  },
  {
   "cell_type": "code",
   "execution_count": 6,
   "metadata": {},
   "outputs": [],
   "source": [
    "SMEFT19.obsuncert.calculate(scXI, [-1, -2], [1, 1], '../../observables/obsXI.yaml', '../../ellipses/scXI.yaml', name='Scenario XI', mode='hess', cores=4)"
   ]
  },
  {
   "cell_type": "code",
   "execution_count": 10,
   "metadata": {},
   "outputs": [],
   "source": [
    "SMEFT19.obsuncert.calculate(scIX, [-1], [1], '../../observables/obsIX.yaml', '../../ellipses/scIX.yaml', name='Scenario IX', mode='hess', cores=4)"
   ]
  },
  {
   "cell_type": "code",
   "execution_count": null,
   "metadata": {},
   "outputs": [
    {
     "name": "stderr",
     "output_type": "stream",
     "text": [
      "3 of the measurements of 'Rtaul(B->Dlnu)' are multivariate. This can lead to inconsistent results as the other observables are profiled over. To be consistent, you should perform a multivariate combination that is not yet supported by `combine_measurements`.\n",
      "3 of the measurements of 'Rtaul(B->D*lnu)' are multivariate. This can lead to inconsistent results as the other observables are profiled over. To be consistent, you should perform a multivariate combination that is not yet supported by `combine_measurements`.\n"
     ]
    }
   ],
   "source": [
    "SMEFT19.obsuncert.calculate(scX, [-1], [1], '../../observables/obsX.yaml', '../../ellipses/scX.yaml', name='Scenario X', mode='hess', cores=4)"
   ]
  },
  {
   "cell_type": "code",
   "execution_count": null,
   "metadata": {},
   "outputs": [],
   "source": []
  }
 ],
 "metadata": {
  "kernelspec": {
   "display_name": "Python 3",
   "language": "python",
   "name": "python3"
  },
  "language_info": {
   "codemirror_mode": {
    "name": "ipython",
    "version": 3
   },
   "file_extension": ".py",
   "mimetype": "text/x-python",
   "name": "python",
   "nbconvert_exporter": "python",
   "pygments_lexer": "ipython3",
   "version": "3.8.10"
  }
 },
 "nbformat": 4,
 "nbformat_minor": 4
}
