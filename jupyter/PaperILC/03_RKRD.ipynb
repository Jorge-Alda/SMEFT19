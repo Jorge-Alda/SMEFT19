{
 "cells": [
  {
   "cell_type": "markdown",
   "metadata": {},
   "source": [
    "We first need to calculate the 1-sigma allowed region after the ILC prospects have been added. The best fit points shouldn't change. We only calculate in the best scenarios."
   ]
  },
  {
   "cell_type": "code",
   "execution_count": 1,
   "metadata": {},
   "outputs": [],
   "source": [
    "import SMEFT19\n",
    "from SMEFT19.scenarios import scIV, scVII, scIX, scX, scXI\n",
    "scenarios = [scIV, scVII, scIX, scX, scXI]\n",
    "bf_points = [(-0.15111781,  0.15206517), (-0.14972665,  0.14965083, -0.26949984), (-0.15251954,),\n",
    "             (-0.15143862,), (-0.14988535, -0.26939863)]"
   ]
  },
  {
   "cell_type": "markdown",
   "metadata": {},
   "source": [
    "## Fits"
   ]
  },
  {
   "cell_type": "code",
   "execution_count": 2,
   "metadata": {
    "collapsed": true
   },
   "outputs": [
    {
     "name": "stdout",
     "output_type": "stream",
     "text": [
      "Minimizing...\n",
      "Pull: 4.973615677065937 sigma\n",
      "Minimizing...\n",
      "Pull: 4.917754968099209 sigma\n",
      "Minimizing...\n",
      "Pull: 5.514473561088102 sigma\n",
      "Minimizing...\n",
      "Pull: 5.352717500259077 sigma\n",
      "Minimizing...\n",
      "Pull: 5.224668007411581 sigma\n"
     ]
    }
   ],
   "source": [
    "for i, sc in enumerate(scenarios):\n",
    "    def fit(x):\n",
    "        return -SMEFT19.likelihood_global(x, sc)\n",
    "    \n",
    "    scname = sc.__name__\n",
    "    scid = scname[2:]\n",
    "    SMEFT19.SMEFTglob.smelli.flavio.measurements.read_file(f'../../InputsILC/Input_{scname}.yaml')\n",
    "    SMEFT19.SMEFTglob.restart_smelli(custom_measurements={'likelihood_ewpt.yaml':('ILC250',)})\n",
    "    bf, v, d, L = SMEFT19.ellipse.minimum(fit, bf_points[i])\n",
    "    SMEFT19.ellipse.save(bf, v, d, L, f'../../ellipses/{scname}_ILC.yaml', f'Scenario {scid} ILC, PhD version',\n",
    "                         f'Scenario {scid}')"
   ]
  },
  {
   "cell_type": "markdown",
   "metadata": {},
   "source": [
    "## Observables"
   ]
  },
  {
   "cell_type": "code",
   "execution_count": 5,
   "metadata": {
    "collapsed": true
   },
   "outputs": [
    {
     "name": "stderr",
     "output_type": "stream",
     "text": [
      "3 of the measurements of 'Rtaul(B->Dlnu)' are multivariate. This can lead to inconsistent results as the other observables are profiled over. To be consistent, you should perform a multivariate combination that is not yet supported by `combine_measurements`.\n",
      "3 of the measurements of 'Rtaul(B->D*lnu)' are multivariate. This can lead to inconsistent results as the other observables are profiled over. To be consistent, you should perform a multivariate combination that is not yet supported by `combine_measurements`.\n"
     ]
    }
   ],
   "source": [
    "SMEFT19.obsuncert.calculate(scIV, [-0.5, 0], [0, 0.5], '../../observables/obsIV_ILC.yaml',\n",
    "                            '../../ellipses/scIV_ILC.yaml', name='Scenario IV (ILC)', mode='hess', cores=4)"
   ]
  },
  {
   "cell_type": "code",
   "execution_count": 6,
   "metadata": {
    "collapsed": true
   },
   "outputs": [
    {
     "name": "stderr",
     "output_type": "stream",
     "text": [
      "3 of the measurements of 'Rtaul(B->Dlnu)' are multivariate. This can lead to inconsistent results as the other observables are profiled over. To be consistent, you should perform a multivariate combination that is not yet supported by `combine_measurements`.\n",
      "3 of the measurements of 'Rtaul(B->D*lnu)' are multivariate. This can lead to inconsistent results as the other observables are profiled over. To be consistent, you should perform a multivariate combination that is not yet supported by `combine_measurements`.\n"
     ]
    }
   ],
   "source": [
    "SMEFT19.obsuncert.calculate(scVII, [-0.5, 0, -1], [0, 0.5, 0.5], '../../observables/obsVII_ILC.yaml',\n",
    "                            '../../ellipses/scVII_ILC.yaml', name='Scenario VII', mode='hess', cores=4)"
   ]
  },
  {
   "cell_type": "code",
   "execution_count": 7,
   "metadata": {
    "collapsed": true
   },
   "outputs": [
    {
     "name": "stderr",
     "output_type": "stream",
     "text": [
      "3 of the measurements of 'Rtaul(B->Dlnu)' are multivariate. This can lead to inconsistent results as the other observables are profiled over. To be consistent, you should perform a multivariate combination that is not yet supported by `combine_measurements`.\n",
      "3 of the measurements of 'Rtaul(B->D*lnu)' are multivariate. This can lead to inconsistent results as the other observables are profiled over. To be consistent, you should perform a multivariate combination that is not yet supported by `combine_measurements`.\n"
     ]
    }
   ],
   "source": [
    "SMEFT19.obsuncert.calculate(scIX, [-0.5], [0], '../../observables/obsIX_ILC.yaml',\n",
    "                            '../../ellipses/scIX_ILC.yaml', name='Scenario IX', mode='hess', cores=4)"
   ]
  },
  {
   "cell_type": "code",
   "execution_count": 8,
   "metadata": {
    "collapsed": true
   },
   "outputs": [
    {
     "name": "stderr",
     "output_type": "stream",
     "text": [
      "3 of the measurements of 'Rtaul(B->Dlnu)' are multivariate. This can lead to inconsistent results as the other observables are profiled over. To be consistent, you should perform a multivariate combination that is not yet supported by `combine_measurements`.\n",
      "3 of the measurements of 'Rtaul(B->D*lnu)' are multivariate. This can lead to inconsistent results as the other observables are profiled over. To be consistent, you should perform a multivariate combination that is not yet supported by `combine_measurements`.\n"
     ]
    }
   ],
   "source": [
    "SMEFT19.obsuncert.calculate(scX, [-0.5], [0], '../../observables/obsX_ILC.yaml',\n",
    "                            '../../ellipses/scX_ILC.yaml', name='Scenario X', mode='hess', cores=4)"
   ]
  },
  {
   "cell_type": "code",
   "execution_count": 9,
   "metadata": {
    "collapsed": true
   },
   "outputs": [
    {
     "name": "stderr",
     "output_type": "stream",
     "text": [
      "3 of the measurements of 'Rtaul(B->Dlnu)' are multivariate. This can lead to inconsistent results as the other observables are profiled over. To be consistent, you should perform a multivariate combination that is not yet supported by `combine_measurements`.\n",
      "3 of the measurements of 'Rtaul(B->D*lnu)' are multivariate. This can lead to inconsistent results as the other observables are profiled over. To be consistent, you should perform a multivariate combination that is not yet supported by `combine_measurements`.\n"
     ]
    }
   ],
   "source": [
    "SMEFT19.obsuncert.calculate(scXI, [-0.5, -1], [0, 0.5], '../../observables/obsXI_ILC.yaml',\n",
    "                            '../../ellipses/scXI_ILC.yaml', name='Scenario XI', mode='hess', cores=4)"
   ]
  }
 ],
 "metadata": {
  "kernelspec": {
   "display_name": "Python 3",
   "language": "python",
   "name": "python3"
  },
  "language_info": {
   "codemirror_mode": {
    "name": "ipython",
    "version": 3
   },
   "file_extension": ".py",
   "mimetype": "text/x-python",
   "name": "python",
   "nbconvert_exporter": "python",
   "pygments_lexer": "ipython3",
   "version": "3.8.10"
  }
 },
 "nbformat": 4,
 "nbformat_minor": 4
}
