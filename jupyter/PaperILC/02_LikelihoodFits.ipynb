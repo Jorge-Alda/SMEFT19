{
 "cells": [
  {
   "cell_type": "markdown",
   "metadata": {},
   "source": [
    "## Calculations"
   ]
  },
  {
   "cell_type": "code",
   "execution_count": 1,
   "metadata": {},
   "outputs": [],
   "source": [
    "from parscanning import GridScan\n",
    "import SMEFT19\n",
    "from SMEFT19.SMEFTglob import likelihood_fits\n",
    "from SMEFT19.scenarios import scIV, scV, scVI, scXI\n",
    "import warnings"
   ]
  },
  {
   "cell_type": "code",
   "execution_count": null,
   "metadata": {},
   "outputs": [],
   "source": [
    "SMEFT19.SMEFTglob.smelli.flavio.measurements.read_file('../../InputsILC/Input_scIV.yaml')\n",
    "xmin = -2.0\n",
    "xmax = 2.0\n",
    "ymin = -2.0\n",
    "ymax = 2.0\n",
    "xmargin = 0.02*(xmax-xmin)\n",
    "ymargin = 0.02*(ymax-ymin)\n",
    "GS = GridScan(likelihood_fits, [xmin-xmargin, ymin-ymargin], [xmax+xmargin, ymax+ymargin], 50)\n",
    "with warnings.catch_warnings():\n",
    "    warnings.simplefilter('ignore')\n",
    "    GS.run_mp(4, scIV)\n",
    "GS.save_csv('../../likelihood/likelihood_IV_ILC.dat')"
   ]
  },
  {
   "cell_type": "code",
   "execution_count": null,
   "metadata": {},
   "outputs": [],
   "source": [
    "SMEFT19.SMEFTglob.smelli.flavio.measurements.read_file('../../InputsILC/Input_scV.yaml')\n",
    "xmin = -1.0\n",
    "xmax = 1.0\n",
    "ymin = -2.0\n",
    "ymax = 2.0\n",
    "xmargin = 0.02*(xmax-xmin)\n",
    "ymargin = 0.02*(ymax-ymin)\n",
    "GS = GridScan(likelihood_fits, [xmin-xmargin, ymin-ymargin], [xmax+xmargin, ymax+ymargin], 50)\n",
    "with warnings.catch_warnings():\n",
    "    warnings.simplefilter('ignore')\n",
    "    GS.run_mp(4, scV)\n",
    "GS.save_csv('../../likelihood/likelihood_V_ILC.dat')"
   ]
  },
  {
   "cell_type": "code",
   "execution_count": null,
   "metadata": {},
   "outputs": [],
   "source": [
    "SMEFT19.SMEFTglob.smelli.flavio.measurements.read_file('../../InputsILC/Input_scVI.yaml')\n",
    "xmin = -1.0\n",
    "xmax = 1.0\n",
    "ymin = -2.0\n",
    "ymax = 2.0\n",
    "xmargin = 0.02*(xmax-xmin)\n",
    "ymargin = 0.02*(ymax-ymin)\n",
    "GS = GridScan(likelihood_fits, [xmin-xmargin, ymin-ymargin], [xmax+xmargin, ymax+ymargin], 50)\n",
    "with warnings.catch_warnings():\n",
    "    warnings.simplefilter('ignore')\n",
    "    GS.run_mp(4, scVI)\n",
    "GS.save_csv('../../likelihood/likelihood_VI_ILC.dat')"
   ]
  },
  {
   "cell_type": "code",
   "execution_count": null,
   "metadata": {},
   "outputs": [],
   "source": [
    "SMEFT19.SMEFTglob.smelli.flavio.measurements.read_file('../../InputsILC/Input_scXI.yaml')\n",
    "xmin = -1.0\n",
    "xmax = 1.0\n",
    "ymin = -2.0\n",
    "ymax = 2.0\n",
    "xmargin = 0.02*(xmax-xmin)\n",
    "ymargin = 0.02*(ymax-ymin)\n",
    "GS = GridScan(likelihood_fits, [xmin-xmargin, ymin-ymargin], [xmax+xmargin, ymax+ymargin], 50)\n",
    "with warnings.catch_warnings():\n",
    "    warnings.simplefilter('ignore')\n",
    "    GS.run_mp(4, scXI)\n",
    "GS.save_csv('../../likelihood/likelihood_XI_ILC.dat')"
   ]
  },
  {
   "cell_type": "code",
   "execution_count": 1,
   "metadata": {},
   "outputs": [],
   "source": []
  }
 ],
 "metadata": {
  "kernelspec": {
   "display_name": "Python 3",
   "language": "python",
   "name": "python3"
  },
  "language_info": {
   "codemirror_mode": {
    "name": "ipython",
    "version": 3
   },
   "file_extension": ".py",
   "mimetype": "text/x-python",
   "name": "python",
   "nbconvert_exporter": "python",
   "pygments_lexer": "ipython3",
   "version": "3.8.10"
  }
 },
 "nbformat": 4,
 "nbformat_minor": 4
}
