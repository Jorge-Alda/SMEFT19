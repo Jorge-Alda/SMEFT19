{
 "cells": [
  {
   "cell_type": "code",
   "execution_count": 1,
   "metadata": {},
   "outputs": [],
   "source": [
    "import SMEFT19\n",
    "from parscanning import GridScan\n",
    "from SMEFT19.scenarios import rotBII\n",
    "from SMEFT19 import likelihood_fits\n",
    "import warnings"
   ]
  },
  {
   "cell_type": "code",
   "execution_count": 2,
   "metadata": {},
   "outputs": [],
   "source": [
    "beta_obs = ['Ft(10C)', 'Ft(14O)', 'Ft(22Mg)', 'Ft(26mAl)', 'Ft(34Cl)', 'Ft(34Ar)', 'Ft(38mK)', 'Ft(38Ca)',\n",
    "            'Ft(42Sc)', 'Ft(46V)', 'Ft(50Mn)', 'Ft(54Co)', 'Ft(62Ga)', 'Ft(74Rb)']\n",
    "SMEFT19.SMEFTglob.restart_smelli(custom_likelihoods={'beta':beta_obs})"
   ]
  },
  {
   "cell_type": "code",
   "execution_count": 3,
   "metadata": {},
   "outputs": [],
   "source": [
    "d_ell = SMEFT19.ellipse.load('../../ellipses/rotBII.yaml')\n",
    "bf1 = d_ell['bf']\n",
    "\n",
    "def fit_l(x):\n",
    "    return rotBII([bf1[0], x[0], x[1], bf1[3], bf1[4]])"
   ]
  },
  {
   "cell_type": "code",
   "execution_count": 4,
   "metadata": {},
   "outputs": [],
   "source": [
    "xmin = -0.15\n",
    "xmax = 0.15\n",
    "ymin = -0.02\n",
    "ymax = 0.02\n",
    "xmargin = 0.02*(xmax-xmin)\n",
    "ymargin = 0.02*(ymax-ymin)\n",
    "GS = GridScan(likelihood_fits, [xmin-xmargin, ymin-ymargin], [xmax+xmargin, ymax+ymargin], 50)\n",
    "with warnings.catch_warnings():\n",
    "    warnings.simplefilter('ignore')\n",
    "    GS.run_mp(4, fit_l)\n",
    "GS.save_csv('../../likelihood/likelihood_rotBII_l.dat')"
   ]
  },
  {
   "cell_type": "code",
   "execution_count": 5,
   "metadata": {},
   "outputs": [],
   "source": [
    "def fit_q(x):\n",
    "    return rotBII([bf1[0], bf1[1], bf1[2], x[0], x[1]])"
   ]
  },
  {
   "cell_type": "code",
   "execution_count": 6,
   "metadata": {},
   "outputs": [],
   "source": [
    "xmin = -0.15\n",
    "xmax = 0.15\n",
    "ymin = -0.5\n",
    "ymax = 2.5\n",
    "xmargin = 0.02*(xmax-xmin)\n",
    "ymargin = 0.02*(ymax-ymin)\n",
    "GS = GridScan(likelihood_fits, [xmin-xmargin, ymin-ymargin], [xmax+xmargin, ymax+ymargin], 50)\n",
    "with warnings.catch_warnings():\n",
    "    warnings.simplefilter('ignore')\n",
    "    GS.run_mp(4, fit_q)\n",
    "GS.save_csv('../../likelihood/likelihood_rotBII_q.dat')"
   ]
  },
  {
   "cell_type": "code",
   "execution_count": null,
   "metadata": {},
   "outputs": [],
   "source": []
  }
 ],
 "metadata": {
  "kernelspec": {
   "display_name": "Python 3",
   "language": "python",
   "name": "python3"
  },
  "language_info": {
   "codemirror_mode": {
    "name": "ipython",
    "version": 3
   },
   "file_extension": ".py",
   "mimetype": "text/x-python",
   "name": "python",
   "nbconvert_exporter": "python",
   "pygments_lexer": "ipython3",
   "version": "3.8.10"
  }
 },
 "nbformat": 4,
 "nbformat_minor": 4
}
